{
 "cells": [
  {
   "cell_type": "markdown",
   "id": "4b62aa63-f630-4120-92de-2e4c42c8c823",
   "metadata": {},
   "source": [
    "## 1.Dataset Selection"
   ]
  },
  {
   "cell_type": "markdown",
   "id": "7c2f702c-6a9b-401b-9ccd-5a7409fbf572",
   "metadata": {},
   "source": [
    "\n",
    "The dataset is related to car evaluation based on various features. Here's an overview of its structure and contents:\n",
    "Number of Rows: 1,728\n",
    "Number of Columns: 7 -\r\n",
    "\r\n",
    "##**Coluns**:\r\n",
    "\n",
    "1. **buying**: Categorical variable indicating the buying price of the car.\r\n",
    "   - Possible values: `vhigh` (very high), `high`, `med` (mediu), `lo`\r\n",
    "\r\n",
    "2. **maint**: Categorical variable indicating the cost of maintenance.\r\n",
    "   - Possible values: `vhigh`, `high`, med`, `ow`\r\n",
    "\r\n",
    "3. **doors**: Categorical variable representing the number of doors in the car.\r\n",
    "   - Possible values: `2`, `3` `4`, `more`\r\n",
    "\r\n",
    "4. **persons**: Categorical variable representing the capacity of persons that the car can hold.\r\n",
    "   - Possible values `2`, `4` `more`\r\n",
    "\r\n",
    "5. **lug_boot**: Categorical variable indicating the size of the luggage boot.\r\n",
    "   - Possible values: `small`, `ed` (meium), `big`\r\n",
    "\r\n",
    "6. **safety**: Categorical variable representing the safety rating of the car.\r\n",
    "   - Possible values: `low` `med` (medium) `high`\r\n",
    "\r\n",
    "7. **acceptability**: Categorical target variable indicating the overall acceptability of the car.\r\n",
    "   - Possible values: `unacc` (unacceptable), `acc` (acceptableting whether the individual had a stroke."
   ]
  },
  {
   "cell_type": "markdown",
   "id": "55a96c9a-d154-4011-811e-878ca2017560",
   "metadata": {},
   "source": [
    "## Objective\n",
    "The goal of analyzing this dataset is to predict the overall acceptability of a car based on its buying price, maintenance cost, number of doors, passenger capacity, luggage boot size, and safety rating."
   ]
  },
  {
   "cell_type": "markdown",
   "id": "ec244b8f-e92c-434c-b97f-d4f555bbf7c7",
   "metadata": {},
   "source": [
    "## 2. Data Loading and Cleaning"
   ]
  },
  {
   "cell_type": "code",
   "execution_count": 223,
   "id": "37b05314-d16e-44e7-b67b-f775c3378872",
   "metadata": {},
   "outputs": [
    {
     "name": "stdout",
     "output_type": "stream",
     "text": [
      "  buying  maint doors persons lug_boot safety acceptability\n",
      "0  vhigh  vhigh     2       2    small    low         unacc\n",
      "1  vhigh  vhigh     2       2    small    med         unacc\n",
      "2  vhigh  vhigh     2       2    small   high         unacc\n",
      "3  vhigh  vhigh     2       2      med    low         unacc\n",
      "4  vhigh  vhigh     2       2      med    med         unacc\n"
     ]
    }
   ],
   "source": [
    "import pandas as pd\n",
    "\n",
    "# Loading the Car Evaluation dataset from UCI\n",
    "url = \"https://archive.ics.uci.edu/ml/machine-learning-databases/car/car.data\"\n",
    "\n",
    "# Column names for the dataset as it's not provided in the .data file\n",
    "column_names = ['buying', 'maint', 'doors', 'persons', 'lug_boot', 'safety', 'acceptability']\n",
    "\n",
    "# Load the dataset\n",
    "data = pd.read_csv(url, header=None, names=column_names)\n",
    "\n",
    "# Display the first few rows to verify loading\n",
    "print(data.head())\n"
   ]
  },
  {
   "cell_type": "code",
   "execution_count": 224,
   "id": "e907af46-fe92-45b8-b791-cd4fc5d7f25a",
   "metadata": {},
   "outputs": [
    {
     "name": "stdout",
     "output_type": "stream",
     "text": [
      "Index(['buying', 'maint', 'doors', 'persons', 'lug_boot', 'safety',\n",
      "       'acceptability'],\n",
      "      dtype='object')\n"
     ]
    }
   ],
   "source": [
    "#Getting all the columns in the dataset\n",
    "data.columns = data.columns.str.strip()\n",
    "print(data.columns)"
   ]
  },
  {
   "cell_type": "markdown",
   "id": "c9ea7bf7-62f3-42a2-9a68-d1127558bfd4",
   "metadata": {},
   "source": [
    "## Exploring the dataset"
   ]
  },
  {
   "cell_type": "code",
   "execution_count": 226,
   "id": "d583347d-4da5-48f2-97d3-b381d19f58b3",
   "metadata": {},
   "outputs": [
    {
     "name": "stdout",
     "output_type": "stream",
     "text": [
      "<class 'pandas.core.frame.DataFrame'>\n",
      "RangeIndex: 1728 entries, 0 to 1727\n",
      "Data columns (total 7 columns):\n",
      " #   Column         Non-Null Count  Dtype \n",
      "---  ------         --------------  ----- \n",
      " 0   buying         1728 non-null   object\n",
      " 1   maint          1728 non-null   object\n",
      " 2   doors          1728 non-null   object\n",
      " 3   persons        1728 non-null   object\n",
      " 4   lug_boot       1728 non-null   object\n",
      " 5   safety         1728 non-null   object\n",
      " 6   acceptability  1728 non-null   object\n",
      "dtypes: object(7)\n",
      "memory usage: 94.6+ KB\n"
     ]
    }
   ],
   "source": [
    "data.info()"
   ]
  },
  {
   "cell_type": "markdown",
   "id": "80d7d0e6-3e12-4aeb-a5ae-5b4be56251ab",
   "metadata": {},
   "source": [
    "## statistical summary"
   ]
  },
  {
   "cell_type": "code",
   "execution_count": 231,
   "id": "9a93fe5f-60c9-48fd-8c7c-17e417c13dc5",
   "metadata": {},
   "outputs": [
    {
     "data": {
      "text/html": [
       "<div>\n",
       "<style scoped>\n",
       "    .dataframe tbody tr th:only-of-type {\n",
       "        vertical-align: middle;\n",
       "    }\n",
       "\n",
       "    .dataframe tbody tr th {\n",
       "        vertical-align: top;\n",
       "    }\n",
       "\n",
       "    .dataframe thead th {\n",
       "        text-align: right;\n",
       "    }\n",
       "</style>\n",
       "<table border=\"1\" class=\"dataframe\">\n",
       "  <thead>\n",
       "    <tr style=\"text-align: right;\">\n",
       "      <th></th>\n",
       "      <th>buying</th>\n",
       "      <th>maint</th>\n",
       "      <th>doors</th>\n",
       "      <th>persons</th>\n",
       "      <th>lug_boot</th>\n",
       "      <th>safety</th>\n",
       "      <th>acceptability</th>\n",
       "    </tr>\n",
       "  </thead>\n",
       "  <tbody>\n",
       "    <tr>\n",
       "      <th>count</th>\n",
       "      <td>1728</td>\n",
       "      <td>1728</td>\n",
       "      <td>1728</td>\n",
       "      <td>1728</td>\n",
       "      <td>1728</td>\n",
       "      <td>1728</td>\n",
       "      <td>1728</td>\n",
       "    </tr>\n",
       "    <tr>\n",
       "      <th>unique</th>\n",
       "      <td>4</td>\n",
       "      <td>4</td>\n",
       "      <td>4</td>\n",
       "      <td>3</td>\n",
       "      <td>3</td>\n",
       "      <td>3</td>\n",
       "      <td>4</td>\n",
       "    </tr>\n",
       "    <tr>\n",
       "      <th>top</th>\n",
       "      <td>vhigh</td>\n",
       "      <td>vhigh</td>\n",
       "      <td>2</td>\n",
       "      <td>2</td>\n",
       "      <td>small</td>\n",
       "      <td>low</td>\n",
       "      <td>unacc</td>\n",
       "    </tr>\n",
       "    <tr>\n",
       "      <th>freq</th>\n",
       "      <td>432</td>\n",
       "      <td>432</td>\n",
       "      <td>432</td>\n",
       "      <td>576</td>\n",
       "      <td>576</td>\n",
       "      <td>576</td>\n",
       "      <td>1210</td>\n",
       "    </tr>\n",
       "  </tbody>\n",
       "</table>\n",
       "</div>"
      ],
      "text/plain": [
       "       buying  maint doors persons lug_boot safety acceptability\n",
       "count    1728   1728  1728    1728     1728   1728          1728\n",
       "unique      4      4     4       3        3      3             4\n",
       "top     vhigh  vhigh     2       2    small    low         unacc\n",
       "freq      432    432   432     576      576    576          1210"
      ]
     },
     "execution_count": 231,
     "metadata": {},
     "output_type": "execute_result"
    }
   ],
   "source": [
    "data.describe(include='all')"
   ]
  },
  {
   "cell_type": "markdown",
   "id": "0903fbfe-984e-4769-9f86-58d77153dd99",
   "metadata": {},
   "source": [
    "### Identifying Categorical Columns\n",
    "\n",
    "In this dataset, some columns are categorical even if they are represented with numerical values. We need to manually specify these columns to ensure proper processing."
   ]
  },
  {
   "cell_type": "code",
   "execution_count": 234,
   "id": "836162e8-5b47-4ecd-9acf-7b9400fdedf3",
   "metadata": {},
   "outputs": [
    {
     "name": "stdout",
     "output_type": "stream",
     "text": [
      "Categorical Columns:\n",
      " Index(['buying', 'maint', 'doors', 'persons', 'lug_boot', 'safety',\n",
      "       'acceptability'],\n",
      "      dtype='object')\n"
     ]
    }
   ],
   "source": [
    "# Identifying categorical columns in the dataset\n",
    "categorical_columns = data.select_dtypes(include=['object']).columns\n",
    "\n",
    "# Printing the identified categorical columns\n",
    "print(\"Categorical Columns:\\n\", categorical_columns)\n"
   ]
  },
  {
   "cell_type": "code",
   "execution_count": 236,
   "id": "bbf4878f-250c-4d8c-acbb-2fbd0955561a",
   "metadata": {},
   "outputs": [
    {
     "name": "stdout",
     "output_type": "stream",
     "text": [
      "Numerical Columns: Index([], dtype='object')\n"
     ]
    }
   ],
   "source": [
    "# Getting all numerical columns\n",
    "numerical_columns = data.select_dtypes(include=['int64', 'float64']).columns\n",
    "\n",
    "# Displaying the numerical columns\n",
    "print(\"Numerical Columns:\", numerical_columns)"
   ]
  },
  {
   "cell_type": "markdown",
   "id": "8c7a908c-0552-41c8-9391-1a01ff16242f",
   "metadata": {},
   "source": [
    "## Getting Nominal cloumns"
   ]
  },
  {
   "cell_type": "code",
   "execution_count": 239,
   "id": "2b6696e8-67be-45d3-8e89-a70d6b42f508",
   "metadata": {},
   "outputs": [
    {
     "name": "stdout",
     "output_type": "stream",
     "text": [
      "Nominal Columns:\n",
      " ['buying', 'maint', 'doors', 'persons', 'lug_boot', 'safety']\n"
     ]
    }
   ],
   "source": [
    "# Manually specifying nominal columns (categorical columns that have no order)\n",
    "nominal_columns = ['buying', 'maint', 'doors', 'persons', 'lug_boot', 'safety']\n",
    "\n",
    "# Display the nominal columns\n",
    "print(\"Nominal Columns:\\n\", nominal_columns)\n"
   ]
  },
  {
   "cell_type": "markdown",
   "id": "c80fb416-1e9c-4831-b95a-56c77bb2c4e7",
   "metadata": {},
   "source": [
    "## Getting categorical columns"
   ]
  },
  {
   "cell_type": "code",
   "execution_count": 242,
   "id": "00a8060f-1294-48e9-a079-4bc813a66aae",
   "metadata": {},
   "outputs": [
    {
     "name": "stdout",
     "output_type": "stream",
     "text": [
      "Unique values in 'buying': ['vhigh' 'high' 'med' 'low']\n",
      "--------------------------------------------------\n",
      "Unique values in 'maint': ['vhigh' 'high' 'med' 'low']\n",
      "--------------------------------------------------\n",
      "Unique values in 'doors': ['2' '3' '4' '5more']\n",
      "--------------------------------------------------\n",
      "Unique values in 'persons': ['2' '4' 'more']\n",
      "--------------------------------------------------\n",
      "Unique values in 'lug_boot': ['small' 'med' 'big']\n",
      "--------------------------------------------------\n",
      "Unique values in 'safety': ['low' 'med' 'high']\n",
      "--------------------------------------------------\n",
      "Unique values in 'acceptability': ['unacc' 'acc' 'vgood' 'good']\n",
      "--------------------------------------------------\n"
     ]
    }
   ],
   "source": [
    "# Identifying categorical columns using data types\n",
    "categorical_columns = data.select_dtypes(include=['object']).columns.tolist()\n",
    "\n",
    "# Printing the categorical columns and their unique values\n",
    "for col in categorical_columns:\n",
    "    print(f\"Unique values in '{col}': {data[col].unique()}\")\n",
    "    print('-' * 50)\n"
   ]
  },
  {
   "cell_type": "markdown",
   "id": "89cacb69-1035-496d-b09d-e491e10d60b6",
   "metadata": {},
   "source": [
    "## Checking for Missing Values\n",
    "\n",
    "Before proceeding, it's important to check for missing values in the dataset."
   ]
  },
  {
   "cell_type": "code",
   "execution_count": 245,
   "id": "02ddb284-9889-4189-a414-ed21f552495b",
   "metadata": {},
   "outputs": [
    {
     "name": "stdout",
     "output_type": "stream",
     "text": [
      "Missing values in each column:\n",
      " buying           0\n",
      "maint            0\n",
      "doors            0\n",
      "persons          0\n",
      "lug_boot         0\n",
      "safety           0\n",
      "acceptability    0\n",
      "dtype: int64\n"
     ]
    }
   ],
   "source": [
    "# Checking for missing values in the dataset\n",
    "missing_data = data.isnull().sum()\n",
    "\n",
    "# Print the count of missing values in each column\n",
    "print(\"Missing values in each column:\\n\", missing_data)\n"
   ]
  },
  {
   "cell_type": "markdown",
   "id": "65514d9f-e346-43f3-96cf-d08915a8ffe5",
   "metadata": {},
   "source": [
    "Hence, BMI colums has missing values we will drop the rows with missing values."
   ]
  },
  {
   "cell_type": "markdown",
   "id": "adc14f0b-eee3-4816-b101-8f934f505b70",
   "metadata": {},
   "source": [
    "## Identifying and Dropping Rows with More Than 3 Missing Values"
   ]
  },
  {
   "cell_type": "code",
   "execution_count": 249,
   "id": "f49c3f7b-018e-410d-962f-322d13209e69",
   "metadata": {},
   "outputs": [
    {
     "name": "stdout",
     "output_type": "stream",
     "text": [
      "Dropped 0 rows with more than 3 missing values.\n",
      "Remaining rows: 1728\n"
     ]
    }
   ],
   "source": [
    "# Count the number of missing values per row\n",
    "missing_values_per_row = data.isnull().sum(axis=1)\n",
    "\n",
    "# Identify rows with more than 3 missing values\n",
    "rows_to_drop = missing_values_per_row[missing_values_per_row > 3].index\n",
    "\n",
    "# Drop the identified rows\n",
    "data.drop(index=rows_to_drop, inplace=True)\n",
    "\n",
    "# Display the number of dropped rows and remaining rows\n",
    "print(f\"Dropped {len(rows_to_drop)} rows with more than 3 missing values.\")\n",
    "print(f\"Remaining rows: {data.shape[0]}\")\n",
    "\n"
   ]
  },
  {
   "cell_type": "markdown",
   "id": "bae57ee0-92e5-4d77-a4f9-6d2194ec7d61",
   "metadata": {},
   "source": [
    "## Identifying and Dropping Columns with More Than 30% Missing Values\n",
    "\n",
    "Next, we'll identify columns with more than 30% missing values and drop them."
   ]
  },
  {
   "cell_type": "code",
   "execution_count": 252,
   "id": "d9d2ab67-3859-45f2-b992-2fab58fa7cb5",
   "metadata": {},
   "outputs": [
    {
     "name": "stdout",
     "output_type": "stream",
     "text": [
      "Dropped columns: []\n"
     ]
    }
   ],
   "source": [
    "# Calculating the percentage of missing values for each column\n",
    "missing_values_percent = data.isnull().mean()\n",
    "\n",
    "# Identifying columns with more than 30% missing values\n",
    "columns_to_drop = missing_values_percent[missing_values_percent > 0.3].index\n",
    "\n",
    "# Drop the identified columns\n",
    "data.drop(columns=columns_to_drop, inplace=True)\n",
    "\n",
    "print(f\"Dropped columns: {list(columns_to_drop)}\")\n"
   ]
  },
  {
   "cell_type": "markdown",
   "id": "ca220132-b712-4e35-9dd7-2754e53b8f1e",
   "metadata": {},
   "source": [
    "## Identifying Nominal and Ordinal Variables"
   ]
  },
  {
   "cell_type": "code",
   "execution_count": 255,
   "id": "0f30a745-1290-46de-8f2e-7f12364edce9",
   "metadata": {},
   "outputs": [
    {
     "name": "stdout",
     "output_type": "stream",
     "text": [
      "Nominal Variables:\n",
      " ['buying', 'maint', 'doors', 'persons', 'lug_boot', 'safety']\n",
      "Ordinal Variables:\n",
      " []\n"
     ]
    }
   ],
   "source": [
    "# Identify nominal and ordinal variables\n",
    "nominal_variables = ['buying', 'maint', 'doors', 'persons', 'lug_boot', 'safety']  # No inherent order\n",
    "ordinal_variables = []  # Add any columns with an inherent order here\n",
    "\n",
    "# Print the identified nominal and ordinal variables\n",
    "print(\"Nominal Variables:\\n\", nominal_variables)\n",
    "print(\"Ordinal Variables:\\n\", ordinal_variables)\n"
   ]
  },
  {
   "cell_type": "markdown",
   "id": "993229a3-ad6e-4833-8e08-83717c54293c",
   "metadata": {},
   "source": [
    "Nominal variables: They don't naturally follow a sequence. Examples are status as a smoker and gender.\n",
    "Ordinal Variables: These are ranked or have a set order. If you think there is a hierarchy, one example would be the kind of work (private, government, self-employed, etc)."
   ]
  },
  {
   "cell_type": "markdown",
   "id": "ab57f86d-6ad4-4406-8e5d-a9e73d9ef79e",
   "metadata": {},
   "source": [
    "The dataset contains the following columns:\n",
    "\n",
    "id: Unique identifier for each record.\n",
    "gender: Categorical variable (Male/Female).\n",
    "age: Continuous variable.\n",
    "hypertension: Binary variable (0 or 1).\n",
    "heart_disease: Binary variable (0 or 1).\n",
    "ever_married: Categorical variable (Yes/No).\n",
    "work_type: Categorical variable with multiple levels.\n",
    "Residence_type: Categorical variable (Urban/Rural).\n",
    "avg_glucose_level: Continuous variable.\n",
    "bmi: Continuous variable with some missing values.\n",
    "smoking_status: Categorical variable (formerly smoked, never smoked, smokes, unknown).\n",
    "stroke: Binary variable (0 or 1)."
   ]
  },
  {
   "cell_type": "markdown",
   "id": "cda68a41-d324-4bd8-ba8a-cd8a75904596",
   "metadata": {},
   "source": [
    "## Ordinal Encoding for Ordered Variables"
   ]
  },
  {
   "cell_type": "code",
   "execution_count": 260,
   "id": "f3e4b9ca-496a-4876-b911-0bc87f1427a7",
   "metadata": {},
   "outputs": [
    {
     "name": "stdout",
     "output_type": "stream",
     "text": [
      "     buying  buying_encoded  maint  maint_encoded  doors  doors_encoded  \\\n",
      "0     vhigh             3.0  vhigh            3.0      2            0.0   \n",
      "1     vhigh             3.0  vhigh            3.0      2            0.0   \n",
      "2     vhigh             3.0  vhigh            3.0      2            0.0   \n",
      "3     vhigh             3.0  vhigh            3.0      2            0.0   \n",
      "4     vhigh             3.0  vhigh            3.0      2            0.0   \n",
      "...     ...             ...    ...            ...    ...            ...   \n",
      "1723    low             0.0    low            0.0  5more            3.0   \n",
      "1724    low             0.0    low            0.0  5more            3.0   \n",
      "1725    low             0.0    low            0.0  5more            3.0   \n",
      "1726    low             0.0    low            0.0  5more            3.0   \n",
      "1727    low             0.0    low            0.0  5more            3.0   \n",
      "\n",
      "     persons  persons_encoded lug_boot  lug_boot_encoded safety  \\\n",
      "0          2              0.0    small               0.0    low   \n",
      "1          2              0.0    small               0.0    med   \n",
      "2          2              0.0    small               0.0   high   \n",
      "3          2              0.0      med               1.0    low   \n",
      "4          2              0.0      med               1.0    med   \n",
      "...      ...              ...      ...               ...    ...   \n",
      "1723    more              2.0      med               1.0    med   \n",
      "1724    more              2.0      med               1.0   high   \n",
      "1725    more              2.0      big               2.0    low   \n",
      "1726    more              2.0      big               2.0    med   \n",
      "1727    more              2.0      big               2.0   high   \n",
      "\n",
      "      safety_encoded  \n",
      "0                0.0  \n",
      "1                1.0  \n",
      "2                2.0  \n",
      "3                0.0  \n",
      "4                1.0  \n",
      "...              ...  \n",
      "1723             1.0  \n",
      "1724             2.0  \n",
      "1725             0.0  \n",
      "1726             1.0  \n",
      "1727             2.0  \n",
      "\n",
      "[1728 rows x 12 columns]\n"
     ]
    }
   ],
   "source": [
    "from sklearn.preprocessing import OrdinalEncoder\n",
    "\n",
    "# Define the orders for the categorical columns based on logical ordinal relationships\n",
    "buying_order = ['low', 'med', 'high', 'vhigh']  # Ordinal order for buying price\n",
    "maint_order = ['low', 'med', 'high', 'vhigh']  # Ordinal order for maintenance cost\n",
    "doors_order = ['2', '3', '4', '5more']  # Ordinal order for doors\n",
    "persons_order = ['2', '4', 'more']  # Ordinal order for persons capacity\n",
    "lug_boot_order = ['small', 'med', 'big']  # Ordinal order for luggage boot size\n",
    "safety_order = ['low', 'med', 'high']  # Ordinal order for safety rating\n",
    "\n",
    "# Initializing the OrdinalEncoder for each column\n",
    "ordinal_encoder_buying = OrdinalEncoder(categories=[buying_order])\n",
    "ordinal_encoder_maint = OrdinalEncoder(categories=[maint_order])\n",
    "ordinal_encoder_doors = OrdinalEncoder(categories=[doors_order])\n",
    "ordinal_encoder_persons = OrdinalEncoder(categories=[persons_order])\n",
    "ordinal_encoder_lug_boot = OrdinalEncoder(categories=[lug_boot_order])\n",
    "ordinal_encoder_safety = OrdinalEncoder(categories=[safety_order])\n",
    "\n",
    "# Encoding the columns\n",
    "data['buying_encoded'] = ordinal_encoder_buying.fit_transform(data[['buying']])\n",
    "data['maint_encoded'] = ordinal_encoder_maint.fit_transform(data[['maint']])\n",
    "data['doors_encoded'] = ordinal_encoder_doors.fit_transform(data[['doors']])\n",
    "data['persons_encoded'] = ordinal_encoder_persons.fit_transform(data[['persons']])\n",
    "data['lug_boot_encoded'] = ordinal_encoder_lug_boot.fit_transform(data[['lug_boot']])\n",
    "data['safety_encoded'] = ordinal_encoder_safety.fit_transform(data[['safety']])\n",
    "\n",
    "# updated dataset with the encoded columns\n",
    "print(data[['buying', 'buying_encoded', \n",
    "            'maint', 'maint_encoded', \n",
    "            'doors', 'doors_encoded', \n",
    "            'persons', 'persons_encoded',\n",
    "            'lug_boot', 'lug_boot_encoded',\n",
    "            'safety', 'safety_encoded']])\n"
   ]
  },
  {
   "cell_type": "code",
   "execution_count": 262,
   "id": "d6bbf4bf-8e17-4d92-93bf-32d97da087d7",
   "metadata": {},
   "outputs": [
    {
     "name": "stdout",
     "output_type": "stream",
     "text": [
      "Index(['buying', 'maint', 'doors', 'persons', 'lug_boot', 'safety',\n",
      "       'acceptability', 'buying_encoded', 'maint_encoded', 'doors_encoded',\n",
      "       'persons_encoded', 'lug_boot_encoded', 'safety_encoded'],\n",
      "      dtype='object')\n"
     ]
    }
   ],
   "source": [
    "print(data.columns)"
   ]
  },
  {
   "cell_type": "markdown",
   "id": "0e2b9e48-a09f-497a-bb41-e7fbe0323287",
   "metadata": {},
   "source": [
    "This will give us a new columns  that contains ordinal values based on the order, which we can then use for further analysis."
   ]
  },
  {
   "cell_type": "markdown",
   "id": "dad6516a-2aeb-43ef-9fb7-f087c6a7e4b8",
   "metadata": {},
   "source": [
    "## One-Hot Encoding for Nominal Variables"
   ]
  },
  {
   "cell_type": "markdown",
   "id": "3778e29c-ead3-4f65-9b41-16a2163b4eac",
   "metadata": {},
   "source": [
    "One-Hot Encoding is a method for improving predictions by transforming categorical information into a format that machine learning algorithms can exploit. "
   ]
  },
  {
   "cell_type": "markdown",
   "id": "65a46104-eeaa-4221-b927-eaa63b87bd15",
   "metadata": {},
   "source": [
    "In our dataset gender ever_married,work_type,Residence_type,smoking_status (though this was previously identified as ordered, it can also be treated as nominal)"
   ]
  },
  {
   "cell_type": "code",
   "execution_count": 117,
   "id": "e96b2338-eb29-4a41-bb0e-3fbaf21dec0b",
   "metadata": {},
   "outputs": [
    {
     "name": "stdout",
     "output_type": "stream",
     "text": [
      "  acceptability  buying_encoded  maint_encoded  doors_encoded  \\\n",
      "0         unacc             3.0            3.0            0.0   \n",
      "1         unacc             3.0            3.0            0.0   \n",
      "2         unacc             3.0            3.0            0.0   \n",
      "3         unacc             3.0            3.0            0.0   \n",
      "4         unacc             3.0            3.0            0.0   \n",
      "\n",
      "   persons_encoded  lug_boot_encoded  safety_encoded  buying_low  buying_med  \\\n",
      "0              0.0               0.0             0.0       False       False   \n",
      "1              0.0               0.0             1.0       False       False   \n",
      "2              0.0               0.0             2.0       False       False   \n",
      "3              0.0               1.0             0.0       False       False   \n",
      "4              0.0               1.0             1.0       False       False   \n",
      "\n",
      "   buying_vhigh  ...  maint_vhigh  doors_3  doors_4  doors_5more  persons_4  \\\n",
      "0          True  ...         True    False    False        False      False   \n",
      "1          True  ...         True    False    False        False      False   \n",
      "2          True  ...         True    False    False        False      False   \n",
      "3          True  ...         True    False    False        False      False   \n",
      "4          True  ...         True    False    False        False      False   \n",
      "\n",
      "   persons_more  lug_boot_med  lug_boot_small  safety_low  safety_med  \n",
      "0         False         False            True        True       False  \n",
      "1         False         False            True       False        True  \n",
      "2         False         False            True       False       False  \n",
      "3         False          True           False        True       False  \n",
      "4         False          True           False       False        True  \n",
      "\n",
      "[5 rows x 22 columns]\n"
     ]
    }
   ],
   "source": [
    "# Performing One-Hot Encoding on nominal variables\n",
    "nominal_variables = ['buying', 'maint', 'doors', 'persons', 'lug_boot', 'safety']\n",
    "\n",
    "# Using get_dummies to create one-hot encoded variables for nominal columns\n",
    "data_encoded = pd.get_dummies(data, columns=nominal_variables, drop_first=True)\n",
    "\n",
    "# Displaying the first few rows of the encoded dataset\n",
    "print(data_encoded.head())\n"
   ]
  },
  {
   "cell_type": "markdown",
   "id": "48ef6aed-c5c9-45f2-9940-54f419d035d8",
   "metadata": {},
   "source": [
    "## Splitting the Data into Training and Test Sets\n",
    "\n",
    "To prepare the data for modeling, we'll split it into training and test sets. We'll use an 80/20 split."
   ]
  },
  {
   "cell_type": "code",
   "execution_count": 120,
   "id": "b183945f-b8bb-463d-9b94-055eae123a95",
   "metadata": {},
   "outputs": [
    {
     "name": "stdout",
     "output_type": "stream",
     "text": [
      "Index(['buying', 'maint', 'doors', 'persons', 'lug_boot', 'safety',\n",
      "       'acceptability', 'buying_encoded', 'maint_encoded', 'doors_encoded',\n",
      "       'persons_encoded', 'lug_boot_encoded', 'safety_encoded'],\n",
      "      dtype='object')\n"
     ]
    }
   ],
   "source": [
    "print(data.columns)"
   ]
  },
  {
   "cell_type": "code",
   "execution_count": 144,
   "id": "aa37aedc-498f-458d-9237-be3189ad124a",
   "metadata": {},
   "outputs": [
    {
     "name": "stdout",
     "output_type": "stream",
     "text": [
      "buying               object\n",
      "maint                object\n",
      "doors                object\n",
      "persons              object\n",
      "lug_boot             object\n",
      "safety               object\n",
      "acceptability        object\n",
      "buying_encoded      float64\n",
      "maint_encoded       float64\n",
      "doors_encoded       float64\n",
      "persons_encoded     float64\n",
      "lug_boot_encoded    float64\n",
      "safety_encoded      float64\n",
      "dtype: object\n",
      "Index(['acceptability', 'buying_encoded', 'maint_encoded', 'doors_encoded',\n",
      "       'persons_encoded', 'lug_boot_encoded', 'safety_encoded', 'buying_low',\n",
      "       'buying_med', 'buying_vhigh', 'maint_low', 'maint_med', 'maint_vhigh',\n",
      "       'doors_3', 'doors_4', 'doors_5more', 'persons_4', 'persons_more',\n",
      "       'lug_boot_med', 'lug_boot_small', 'safety_low', 'safety_med'],\n",
      "      dtype='object')\n"
     ]
    }
   ],
   "source": [
    "print(data.dtypes)\n",
    "# Print the column names of the encoded dataset\n",
    "print(data_encoded.columns)\n"
   ]
  },
  {
   "cell_type": "code",
   "execution_count": 146,
   "id": "b642cd9b-fe39-4ff6-b6b2-5e1d2ccd763d",
   "metadata": {},
   "outputs": [
    {
     "name": "stdout",
     "output_type": "stream",
     "text": [
      "Training set shape: (1382, 21)\n",
      "Test set shape: (346, 21)\n",
      "Training target shape: (1382,)\n",
      "Test target shape: (346,)\n"
     ]
    }
   ],
   "source": [
    "from sklearn.model_selection import train_test_split\n",
    "\n",
    "# Defining features (X) and target (y)\n",
    "X = data_encoded.drop(columns=['acceptability'])  # Features\n",
    "y = data_encoded['acceptability']  # Target variable\n",
    "\n",
    "# Splitting the dataset into training and test sets with an 80/20 split\n",
    "X_train, X_test, y_train, y_test = train_test_split(X, y, test_size=0.2, random_state=42)\n",
    "\n",
    "# Displaying the shapes of the resulting datasets\n",
    "print(\"Training set shape:\", X_train.shape)\n",
    "print(\"Test set shape:\", X_test.shape)\n",
    "print(\"Training target shape:\", y_train.shape)\n",
    "print(\"Test target shape:\", y_test.shape)\n"
   ]
  },
  {
   "cell_type": "code",
   "execution_count": 148,
   "id": "617efe1d-03b7-45d7-b39c-af4a8d590e9c",
   "metadata": {},
   "outputs": [
    {
     "name": "stdout",
     "output_type": "stream",
     "text": [
      "Training set shape: (1382, 21)\n",
      "Test set shape: (346, 21)\n",
      "Training target shape: (1382,)\n",
      "Test target shape: (346,)\n"
     ]
    }
   ],
   "source": [
    "from sklearn.model_selection import train_test_split\n",
    "\n",
    "# Selecting the encoded columns only for X (features)\n",
    "encoded_columns = [col for col in data_encoded.columns if col != 'acceptability']  # All columns except 'acceptability'\n",
    "\n",
    "X = data_encoded[encoded_columns]  # Features (all encoded columns except the target)\n",
    "y = data_encoded['acceptability']  # Target variable (acceptability)\n",
    "\n",
    "# Split the data into training and test sets with an 80/20 split\n",
    "X_train, X_test, y_train, y_test = train_test_split(X, y, test_size=0.2, random_state=42)\n",
    "\n",
    "# Displaying the shapes of the resulting datasets\n",
    "print(\"Training set shape:\", X_train.shape)\n",
    "print(\"Test set shape:\", X_test.shape)\n",
    "print(\"Training target shape:\", y_train.shape)\n",
    "print(\"Test target shape:\", y_test.shape)\n"
   ]
  },
  {
   "cell_type": "code",
   "execution_count": 146,
   "id": "1800aadd-9019-40dc-9a5a-6c09dc23bdf6",
   "metadata": {},
   "outputs": [],
   "source": [
    "# Since the Car Evaluation Dataset doesn't have numeric columns, we only work with encoded columns.\n",
    "# Adjust this if you had numeric columns in another dataset.\n",
    "\n",
    "# Encoded columns from the dataset (one-hot encoded columns from get_dummies)\n",
    "encoded_columns = [col for col in data_encoded.columns if col != 'acceptability']  # All encoded columns except target\n",
    "\n",
    "# Defining X (features) and y (target)\n",
    "X = data_encoded[encoded_columns]  # All encoded features\n",
    "y = data_encoded['acceptability']  # Target variable (acceptability)\n",
    "\n",
    "# Displaying the first few rows to verify the data\n",
    "print(\"Features (X) - First few rows:\\n\", X.head())\n",
    "print(\"Target (y) - First few rows:\\n\", y.head())\n"
   ]
  },
  {
   "cell_type": "code",
   "execution_count": 152,
   "id": "34d55d1c-0afb-4694-81a0-d638a3645711",
   "metadata": {},
   "outputs": [
    {
     "name": "stdout",
     "output_type": "stream",
     "text": [
      "Data split complete. Ready for modeling!\n"
     ]
    }
   ],
   "source": [
    "from sklearn.model_selection import train_test_split\n",
    "\n",
    "# Define your features (X) and target (y)\n",
    "X = data_encoded.drop(columns=['acceptability'])  # Features (all categorical)\n",
    "y = data_encoded['acceptability']  # Target variable\n",
    "\n",
    "# Split the dataset into training and test sets with an 80/20 split\n",
    "X_train, X_test, y_train, y_test = train_test_split(X, y, test_size=0.2, random_state=42)\n",
    "\n",
    "# Since there are no numeric columns, you can skip the standardization step\n",
    "print(\"Data split complete. Ready for modeling!\")\n",
    "\n"
   ]
  },
  {
   "cell_type": "markdown",
   "id": "6b5c9d06-a1f6-42ac-bab0-165874969041",
   "metadata": {},
   "source": [
    "## Standardizing Numeric Variables After Splitting"
   ]
  },
  {
   "cell_type": "markdown",
   "id": "f739d673-ac2b-473e-9cea-52d5787a6447",
   "metadata": {},
   "source": [
    "To prevent data leakage, it's important to split the data into training and test sets before performing standardization. This ensures that information from the test set doesn't influence the training process."
   ]
  },
  {
   "cell_type": "markdown",
   "id": "504298f9-51f9-404a-897d-914bbff98fdf",
   "metadata": {},
   "source": [
    "## Final Dataset Overview"
   ]
  },
  {
   "cell_type": "code",
   "execution_count": 157,
   "id": "e73d08af-da4a-4450-b178-c39e0b72bf3a",
   "metadata": {},
   "outputs": [
    {
     "data": {
      "text/html": [
       "<div>\n",
       "<style scoped>\n",
       "    .dataframe tbody tr th:only-of-type {\n",
       "        vertical-align: middle;\n",
       "    }\n",
       "\n",
       "    .dataframe tbody tr th {\n",
       "        vertical-align: top;\n",
       "    }\n",
       "\n",
       "    .dataframe thead th {\n",
       "        text-align: right;\n",
       "    }\n",
       "</style>\n",
       "<table border=\"1\" class=\"dataframe\">\n",
       "  <thead>\n",
       "    <tr style=\"text-align: right;\">\n",
       "      <th></th>\n",
       "      <th>buying_encoded</th>\n",
       "      <th>maint_encoded</th>\n",
       "      <th>doors_encoded</th>\n",
       "      <th>persons_encoded</th>\n",
       "      <th>lug_boot_encoded</th>\n",
       "      <th>safety_encoded</th>\n",
       "      <th>buying_low</th>\n",
       "      <th>buying_med</th>\n",
       "      <th>buying_vhigh</th>\n",
       "      <th>maint_low</th>\n",
       "      <th>...</th>\n",
       "      <th>maint_vhigh</th>\n",
       "      <th>doors_3</th>\n",
       "      <th>doors_4</th>\n",
       "      <th>doors_5more</th>\n",
       "      <th>persons_4</th>\n",
       "      <th>persons_more</th>\n",
       "      <th>lug_boot_med</th>\n",
       "      <th>lug_boot_small</th>\n",
       "      <th>safety_low</th>\n",
       "      <th>safety_med</th>\n",
       "    </tr>\n",
       "  </thead>\n",
       "  <tbody>\n",
       "    <tr>\n",
       "      <th>107</th>\n",
       "      <td>3.0</td>\n",
       "      <td>3.0</td>\n",
       "      <td>3.0</td>\n",
       "      <td>2.0</td>\n",
       "      <td>2.0</td>\n",
       "      <td>2.0</td>\n",
       "      <td>False</td>\n",
       "      <td>False</td>\n",
       "      <td>True</td>\n",
       "      <td>False</td>\n",
       "      <td>...</td>\n",
       "      <td>True</td>\n",
       "      <td>False</td>\n",
       "      <td>False</td>\n",
       "      <td>True</td>\n",
       "      <td>False</td>\n",
       "      <td>True</td>\n",
       "      <td>False</td>\n",
       "      <td>False</td>\n",
       "      <td>False</td>\n",
       "      <td>False</td>\n",
       "    </tr>\n",
       "    <tr>\n",
       "      <th>901</th>\n",
       "      <td>1.0</td>\n",
       "      <td>3.0</td>\n",
       "      <td>1.0</td>\n",
       "      <td>1.0</td>\n",
       "      <td>0.0</td>\n",
       "      <td>1.0</td>\n",
       "      <td>False</td>\n",
       "      <td>True</td>\n",
       "      <td>False</td>\n",
       "      <td>False</td>\n",
       "      <td>...</td>\n",
       "      <td>True</td>\n",
       "      <td>True</td>\n",
       "      <td>False</td>\n",
       "      <td>False</td>\n",
       "      <td>True</td>\n",
       "      <td>False</td>\n",
       "      <td>False</td>\n",
       "      <td>True</td>\n",
       "      <td>False</td>\n",
       "      <td>True</td>\n",
       "    </tr>\n",
       "    <tr>\n",
       "      <th>1709</th>\n",
       "      <td>0.0</td>\n",
       "      <td>0.0</td>\n",
       "      <td>3.0</td>\n",
       "      <td>0.0</td>\n",
       "      <td>2.0</td>\n",
       "      <td>2.0</td>\n",
       "      <td>True</td>\n",
       "      <td>False</td>\n",
       "      <td>False</td>\n",
       "      <td>True</td>\n",
       "      <td>...</td>\n",
       "      <td>False</td>\n",
       "      <td>False</td>\n",
       "      <td>False</td>\n",
       "      <td>True</td>\n",
       "      <td>False</td>\n",
       "      <td>False</td>\n",
       "      <td>False</td>\n",
       "      <td>False</td>\n",
       "      <td>False</td>\n",
       "      <td>False</td>\n",
       "    </tr>\n",
       "    <tr>\n",
       "      <th>706</th>\n",
       "      <td>2.0</td>\n",
       "      <td>1.0</td>\n",
       "      <td>2.0</td>\n",
       "      <td>0.0</td>\n",
       "      <td>1.0</td>\n",
       "      <td>1.0</td>\n",
       "      <td>False</td>\n",
       "      <td>False</td>\n",
       "      <td>False</td>\n",
       "      <td>False</td>\n",
       "      <td>...</td>\n",
       "      <td>False</td>\n",
       "      <td>False</td>\n",
       "      <td>True</td>\n",
       "      <td>False</td>\n",
       "      <td>False</td>\n",
       "      <td>False</td>\n",
       "      <td>True</td>\n",
       "      <td>False</td>\n",
       "      <td>False</td>\n",
       "      <td>True</td>\n",
       "    </tr>\n",
       "    <tr>\n",
       "      <th>678</th>\n",
       "      <td>2.0</td>\n",
       "      <td>1.0</td>\n",
       "      <td>1.0</td>\n",
       "      <td>0.0</td>\n",
       "      <td>1.0</td>\n",
       "      <td>0.0</td>\n",
       "      <td>False</td>\n",
       "      <td>False</td>\n",
       "      <td>False</td>\n",
       "      <td>False</td>\n",
       "      <td>...</td>\n",
       "      <td>False</td>\n",
       "      <td>True</td>\n",
       "      <td>False</td>\n",
       "      <td>False</td>\n",
       "      <td>False</td>\n",
       "      <td>False</td>\n",
       "      <td>True</td>\n",
       "      <td>False</td>\n",
       "      <td>True</td>\n",
       "      <td>False</td>\n",
       "    </tr>\n",
       "  </tbody>\n",
       "</table>\n",
       "<p>5 rows × 21 columns</p>\n",
       "</div>"
      ],
      "text/plain": [
       "      buying_encoded  maint_encoded  doors_encoded  persons_encoded  \\\n",
       "107              3.0            3.0            3.0              2.0   \n",
       "901              1.0            3.0            1.0              1.0   \n",
       "1709             0.0            0.0            3.0              0.0   \n",
       "706              2.0            1.0            2.0              0.0   \n",
       "678              2.0            1.0            1.0              0.0   \n",
       "\n",
       "      lug_boot_encoded  safety_encoded  buying_low  buying_med  buying_vhigh  \\\n",
       "107                2.0             2.0       False       False          True   \n",
       "901                0.0             1.0       False        True         False   \n",
       "1709               2.0             2.0        True       False         False   \n",
       "706                1.0             1.0       False       False         False   \n",
       "678                1.0             0.0       False       False         False   \n",
       "\n",
       "      maint_low  ...  maint_vhigh  doors_3  doors_4  doors_5more  persons_4  \\\n",
       "107       False  ...         True    False    False         True      False   \n",
       "901       False  ...         True     True    False        False       True   \n",
       "1709       True  ...        False    False    False         True      False   \n",
       "706       False  ...        False    False     True        False      False   \n",
       "678       False  ...        False     True    False        False      False   \n",
       "\n",
       "      persons_more  lug_boot_med  lug_boot_small  safety_low  safety_med  \n",
       "107           True         False           False       False       False  \n",
       "901          False         False            True       False        True  \n",
       "1709         False         False           False       False       False  \n",
       "706          False          True           False       False        True  \n",
       "678          False          True           False        True       False  \n",
       "\n",
       "[5 rows x 21 columns]"
      ]
     },
     "execution_count": 157,
     "metadata": {},
     "output_type": "execute_result"
    }
   ],
   "source": [
    "X_train.head()"
   ]
  },
  {
   "cell_type": "code",
   "execution_count": 159,
   "id": "90e11fef-9f36-4a51-a601-e1850e4d851b",
   "metadata": {},
   "outputs": [
    {
     "name": "stdout",
     "output_type": "stream",
     "text": [
      "<class 'pandas.core.frame.DataFrame'>\n",
      "Index: 1382 entries, 107 to 1126\n",
      "Data columns (total 21 columns):\n",
      " #   Column            Non-Null Count  Dtype  \n",
      "---  ------            --------------  -----  \n",
      " 0   buying_encoded    1382 non-null   float64\n",
      " 1   maint_encoded     1382 non-null   float64\n",
      " 2   doors_encoded     1382 non-null   float64\n",
      " 3   persons_encoded   1382 non-null   float64\n",
      " 4   lug_boot_encoded  1382 non-null   float64\n",
      " 5   safety_encoded    1382 non-null   float64\n",
      " 6   buying_low        1382 non-null   bool   \n",
      " 7   buying_med        1382 non-null   bool   \n",
      " 8   buying_vhigh      1382 non-null   bool   \n",
      " 9   maint_low         1382 non-null   bool   \n",
      " 10  maint_med         1382 non-null   bool   \n",
      " 11  maint_vhigh       1382 non-null   bool   \n",
      " 12  doors_3           1382 non-null   bool   \n",
      " 13  doors_4           1382 non-null   bool   \n",
      " 14  doors_5more       1382 non-null   bool   \n",
      " 15  persons_4         1382 non-null   bool   \n",
      " 16  persons_more      1382 non-null   bool   \n",
      " 17  lug_boot_med      1382 non-null   bool   \n",
      " 18  lug_boot_small    1382 non-null   bool   \n",
      " 19  safety_low        1382 non-null   bool   \n",
      " 20  safety_med        1382 non-null   bool   \n",
      "dtypes: bool(15), float64(6)\n",
      "memory usage: 95.8 KB\n"
     ]
    }
   ],
   "source": [
    "X_train.info()"
   ]
  },
  {
   "cell_type": "code",
   "execution_count": 161,
   "id": "26b6ecc5-dc1c-4b7e-a142-f079d0f42cef",
   "metadata": {},
   "outputs": [
    {
     "data": {
      "text/plain": [
       "107     unacc\n",
       "901     unacc\n",
       "1709    unacc\n",
       "706     unacc\n",
       "678     unacc\n",
       "Name: acceptability, dtype: object"
      ]
     },
     "execution_count": 161,
     "metadata": {},
     "output_type": "execute_result"
    }
   ],
   "source": [
    "y_train.head()"
   ]
  },
  {
   "cell_type": "markdown",
   "id": "10fe8cc0-2f28-486e-93b2-68601984aefa",
   "metadata": {},
   "source": [
    "Let's save the data to a CSV file for use in a later notebook where we will model the data."
   ]
  },
  {
   "cell_type": "code",
   "execution_count": 164,
   "id": "6262d29f-3505-4043-8bb9-acacc974a771",
   "metadata": {},
   "outputs": [],
   "source": [
    "X_train.to_csv('X_train.csv', index=False)\n",
    "X_test.to_csv('X_test.csv', index=False)\n",
    "y_train.to_csv('y_train.csv', index=False)\n",
    "y_test.to_csv('y_test.csv', index=False)"
   ]
  },
  {
   "cell_type": "code",
   "execution_count": 166,
   "id": "0dbbf1df-6137-40e9-942e-edb6df93a7a0",
   "metadata": {},
   "outputs": [],
   "source": [
    "# Save the DataFrame to a CSV file\n",
    "data.to_csv('prepared_data.csv', index=False)"
   ]
  },
  {
   "cell_type": "code",
   "execution_count": 168,
   "id": "054402e4-3bae-4a6a-bbaf-b5aa42a70268",
   "metadata": {},
   "outputs": [],
   "source": [
    "import numpy as np\n",
    "from sklearn.preprocessing import OrdinalEncoder, StandardScaler\n",
    "from sklearn.model_selection import train_test_split, GridSearchCV\n",
    "from sklearn.metrics import (\n",
    "    confusion_matrix, ConfusionMatrixDisplay,\n",
    "    accuracy_score, precision_score, recall_score, f1_score\n",
    ")\n",
    "import matplotlib.pyplot as plt\n",
    "import seaborn as sns\n",
    "from sklearn.linear_model import LogisticRegression\n",
    "from sklearn.neighbors import KNeighborsClassifier\n",
    "\n",
    "# For displaying all columns\n",
    "pd.set_option('display.max_columns', None)\n",
    "\n",
    "# set random seed\n",
    "np.random.seed(0)"
   ]
  },
  {
   "cell_type": "code",
   "execution_count": 170,
   "id": "fccd2f5a-f690-4132-9ee5-f69665cf6f4f",
   "metadata": {},
   "outputs": [],
   "source": [
    "file_path = 'prepared_data.csv'\n",
    "data= pd.read_csv(file_path)"
   ]
  },
  {
   "cell_type": "code",
   "execution_count": 172,
   "id": "fdb4a299-63d3-4232-be49-e460099a23e3",
   "metadata": {},
   "outputs": [],
   "source": [
    "# Loading the prepared data from the previous notebook (data_modeling.ipynb)\n",
    "X_train = pd.read_csv('X_train.csv')\n",
    "X_test = pd.read_csv('X_test.csv')\n",
    "y_train = pd.read_csv('y_train.csv')\n",
    "y_test = pd.read_csv('y_test.csv')"
   ]
  },
  {
   "cell_type": "code",
   "execution_count": 174,
   "id": "7a7e0d89-3c6c-492e-a759-4c8d3529b2a0",
   "metadata": {},
   "outputs": [
    {
     "name": "stdout",
     "output_type": "stream",
     "text": [
      "y_train shape: (1382,)\n",
      "y_test shape: (346,)\n"
     ]
    }
   ],
   "source": [
    "#ravel to turn y_train and y_test into 1D arrays\n",
    "y_train = y_train.values.ravel()\n",
    "y_test = y_test.values.ravel()\n",
    "\n",
    "# shapes to confirm they are 1D\n",
    "print(\"y_train shape:\", y_train.shape)\n",
    "print(\"y_test shape:\", y_test.shape)"
   ]
  },
  {
   "cell_type": "markdown",
   "id": "734926ad-6a49-471f-b946-bf228256e174",
   "metadata": {},
   "source": [
    "## 3 Logistic Regression Model"
   ]
  },
  {
   "cell_type": "code",
   "execution_count": 177,
   "id": "2d86e844-9156-44a7-bc50-bc91b20349e5",
   "metadata": {},
   "outputs": [
    {
     "name": "stdout",
     "output_type": "stream",
     "text": [
      "Best parameters for Logistic Regression: {'C': 100}\n"
     ]
    }
   ],
   "source": [
    "from sklearn.linear_model import LogisticRegression\n",
    "from sklearn.model_selection import GridSearchCV\n",
    "\n",
    "# Define the parameter grid for Logistic Regression\n",
    "param_grid_lr = {'C': [0.01, 0.1, 1, 10, 100]}  # Regularization strength\n",
    "\n",
    "# Initialize the Logistic Regression model\n",
    "lr = LogisticRegression(max_iter=1000, random_state=42)\n",
    "\n",
    "# Initialize GridSearchCV to perform hyperparameter tuning using cross-validation\n",
    "grid_search_lr = GridSearchCV(lr, param_grid_lr, cv=5, scoring='f1_macro')  # 'f1_macro' used for multiclass problems\n",
    "\n",
    "# Fit the model on the training data\n",
    "grid_search_lr.fit(X_train, y_train)\n",
    "\n",
    "# Get the best parameters from GridSearchCV\n",
    "print(\"Best parameters for Logistic Regression:\", grid_search_lr.best_params_)\n"
   ]
  },
  {
   "cell_type": "code",
   "execution_count": 179,
   "id": "3ed60c0d-2bc0-46fb-905a-65483dc57bc4",
   "metadata": {},
   "outputs": [
    {
     "name": "stdout",
     "output_type": "stream",
     "text": [
      "X_train shape: (1382, 21)\n",
      "Missing values have been handled.\n"
     ]
    }
   ],
   "source": [
    "from sklearn.model_selection import train_test_split\n",
    "from sklearn.impute import SimpleImputer\n",
    "\n",
    "# Assuming X and y have been defined as your features and target variables\n",
    "# Splitting the data into training and test sets with an 80/20 split\n",
    "X_train, X_test, y_train, y_test = train_test_split(X, y, test_size=0.2, random_state=42)\n",
    "\n",
    "# Check to confirm X_train is defined and contains data\n",
    "print(\"X_train shape:\", X_train.shape)\n",
    "\n",
    "# Handling missing values with SimpleImputer (if needed)\n",
    "imputer = SimpleImputer(strategy='mean')\n",
    "\n",
    "# Fit and transform the training data\n",
    "X_train = imputer.fit_transform(X_train)\n",
    "\n",
    "# Transform the test data\n",
    "X_test = imputer.transform(X_test)\n",
    "\n",
    "print(\"Missing values have been handled.\")\n"
   ]
  },
  {
   "cell_type": "code",
   "execution_count": 181,
   "id": "dc6ddfc0-f894-41b2-b900-998fb9a24917",
   "metadata": {},
   "outputs": [],
   "source": [
    "# Get the best model\n",
    "best_lr = grid_search_lr.best_estimator_"
   ]
  },
  {
   "cell_type": "markdown",
   "id": "13fbc971-7e84-4d5e-9df5-8a1c77fd62ad",
   "metadata": {},
   "source": [
    "### 4 K-Nearest Neighbors"
   ]
  },
  {
   "cell_type": "markdown",
   "id": "e8a527f5-589b-4d74-b6e7-cd7aa682d62c",
   "metadata": {},
   "source": [
    "#### Hyperparameter Tuning\n",
    "\n",
    "We will use GridSearchCV to find the best value for `n_neighbors`.\n"
   ]
  },
  {
   "cell_type": "code",
   "execution_count": 187,
   "id": "0e09f146-d5aa-4468-b9ab-1398fbd78aeb",
   "metadata": {},
   "outputs": [
    {
     "name": "stdout",
     "output_type": "stream",
     "text": [
      "Number of NaN values in X_train: 0\n",
      "Number of missing values in y_train: 0\n",
      "Best parameters for K-Nearest Neighbors: {'n_neighbors': 8}\n"
     ]
    }
   ],
   "source": [
    "# Step 1: Check for NaN values in the training data (X_train) and missing values in the target (y_train)\n",
    "print(\"Number of NaN values in X_train:\", np.isnan(X_train).sum().sum())  # For numeric columns\n",
    "print(\"Number of missing values in y_train:\", y_train.isnull().sum())  # For target variable\n",
    "\n",
    "# Step 2: Handle missing values using SimpleImputer (if necessary)\n",
    "imputer = SimpleImputer(strategy='mean')  # Replace NaN with the mean\n",
    "X_train = imputer.fit_transform(X_train)  # Fit and transform the training data\n",
    "X_test = imputer.transform(X_test)        # Transform the test data\n",
    "\n",
    "# Step 3: Standardize the numeric columns using StandardScaler\n",
    "scaler = StandardScaler()\n",
    "X_train = scaler.fit_transform(X_train)  # Fit and transform the training data\n",
    "X_test = scaler.transform(X_test)        # Transform the test data\n",
    "\n",
    "# Step 4: Define the parameter grid for KNN (searching for the best 'n_neighbors')\n",
    "param_grid_knn = {'n_neighbors': range(1, 21)}\n",
    "\n",
    "# Step 5: Initialize the KNN model\n",
    "knn = KNeighborsClassifier()\n",
    "\n",
    "# Step 6: Initialize GridSearchCV to perform hyperparameter tuning using cross-validation\n",
    "grid_search_knn = GridSearchCV(knn, param_grid_knn, cv=5, scoring='f1_macro')  # 'f1_macro' for multiclass classification\n",
    "\n",
    "# Step 7: Fit the model on the training data\n",
    "grid_search_knn.fit(X_train, y_train)\n",
    "\n",
    "# Step 8: Get the best parameters for K-Nearest Neighbors\n",
    "print(\"Best parameters for K-Nearest Neighbors:\", grid_search_knn.best_params_)\n"
   ]
  },
  {
   "cell_type": "markdown",
   "id": "cd88d946-a05e-42a1-9965-d48d9402c8da",
   "metadata": {},
   "source": [
    "#### Best KNN Model\n"
   ]
  },
  {
   "cell_type": "code",
   "execution_count": 189,
   "id": "a5359993-71ea-4928-a96d-5a17d5611579",
   "metadata": {},
   "outputs": [],
   "source": [
    "# Get the best model\n",
    "best_knn = grid_search_knn.best_estimator_"
   ]
  },
  {
   "cell_type": "markdown",
   "id": "b76f8893-a608-4f86-9562-f17c2e4cc788",
   "metadata": {},
   "source": [
    "## Model Evaluation\n",
    "\n",
    "We will evaluate both models using confusion matrices and performance metrics."
   ]
  },
  {
   "cell_type": "markdown",
   "id": "26931953-ecd2-42bb-b436-a780b1df3b72",
   "metadata": {},
   "source": [
    "### 1.Logistic Regression Evaluation"
   ]
  },
  {
   "cell_type": "code",
   "execution_count": 202,
   "id": "66a65482-5e14-4a09-9163-38623a953005",
   "metadata": {},
   "outputs": [
    {
     "name": "stdout",
     "output_type": "stream",
     "text": [
      "Best parameters for Logistic Regression: {'C': 100}\n",
      "Logistic Regression Accuracy: 0.9364\n",
      "Logistic Regression Precision: 0.8534\n",
      "Logistic Regression Recall: 0.9396\n",
      "Logistic Regression F1 Score: 0.8798\n",
      "Confusion Matrix:\n",
      " [[ 71   9   3   0]\n",
      " [  0  11   0   0]\n",
      " [  9   0 226   0]\n",
      " [  1   0   0  16]]\n"
     ]
    }
   ],
   "source": [
    "from sklearn.linear_model import LogisticRegression\n",
    "from sklearn.model_selection import GridSearchCV\n",
    "from sklearn.metrics import f1_score, accuracy_score, precision_score, recall_score, confusion_matrix\n",
    "\n",
    "# Step 1: Define the parameter grid for Logistic Regression\n",
    "param_grid_lr = {'C': [0.01, 0.1, 1, 10, 100]}  # Regularization strength\n",
    "\n",
    "# Step 2: Initialize Logistic Regression with class weights to handle class imbalance\n",
    "lr = LogisticRegression(max_iter=1000, random_state=42, class_weight='balanced')\n",
    "\n",
    "# Step 3: Initialize GridSearchCV to perform hyperparameter tuning\n",
    "grid_search_lr = GridSearchCV(lr, param_grid_lr, cv=5, scoring='f1_macro')  # 'f1_macro' for multiclass problems\n",
    "\n",
    "# Step 4: Fit the model on the training data\n",
    "grid_search_lr.fit(X_train, y_train)\n",
    "\n",
    "# Step 5: Get the best model (with the best hyperparameters)\n",
    "best_lr = grid_search_lr.best_estimator_\n",
    "\n",
    "# Step 6: Make predictions on the test set using the best model\n",
    "y_pred_lr = best_lr.predict(X_test)\n",
    "\n",
    "# Step 7: Evaluate the model performance using various metrics\n",
    "accuracy_lr = accuracy_score(y_test, y_pred_lr)\n",
    "precision_lr = precision_score(y_test, y_pred_lr, average='macro')  # 'macro' for multiclass\n",
    "recall_lr = recall_score(y_test, y_pred_lr, average='macro')\n",
    "f1_lr = f1_score(y_test, y_pred_lr, average='macro')\n",
    "confusion_mat_lr = confusion_matrix(y_test, y_pred_lr)\n",
    "\n",
    "# Displaying results\n",
    "print(\"Best parameters for Logistic Regression:\", grid_search_lr.best_params_)\n",
    "print(f\"Logistic Regression Accuracy: {accuracy_lr:.4f}\")\n",
    "print(f\"Logistic Regression Precision: {precision_lr:.4f}\")\n",
    "print(f\"Logistic Regression Recall: {recall_lr:.4f}\")\n",
    "print(f\"Logistic Regression F1 Score: {f1_lr:.4f}\")\n",
    "print(\"Confusion Matrix:\\n\", confusion_mat_lr)\n"
   ]
  },
  {
   "cell_type": "markdown",
   "id": "7307e25f-9bbf-478d-b7e1-d3b0fa795675",
   "metadata": {},
   "source": [
    "## 5 Confusion Matrix Evaluation"
   ]
  },
  {
   "cell_type": "code",
   "execution_count": 204,
   "id": "3950daaa-6ecc-4d52-b217-4be2490bbaf0",
   "metadata": {},
   "outputs": [
    {
     "data": {
      "image/png": "[encoded data removed]",
      "text/plain": [
       "<Figure size 640x480 with 2 Axes>"
      ]
     },
     "metadata": {},
     "output_type": "display_data"
    }
   ],
   "source": [
    "from sklearn.metrics import ConfusionMatrixDisplay\n",
    "import matplotlib.pyplot as plt\n",
    "from sklearn.metrics import confusion_matrix\n",
    "\n",
    "# Step 1: Generate the confusion matrix for Logistic Regression\n",
    "cm_lr = confusion_matrix(y_test, y_pred_lr)\n",
    "\n",
    "# Step 2: Create a ConfusionMatrixDisplay object\n",
    "disp_lr = ConfusionMatrixDisplay(confusion_matrix=cm_lr)\n",
    "\n",
    "# Step 3: Plot the confusion matrix\n",
    "disp_lr.plot(cmap=plt.cm.Blues)  # You can change the colormap if desired\n",
    "plt.title(\"Logistic Regression Confusion Matrix\")\n",
    "plt.show()\n"
   ]
  },
  {
   "cell_type": "markdown",
   "id": "933b5153-8ee6-40c6-92af-d5bc5c370556",
   "metadata": {},
   "source": [
    "#### Performance Metrics"
   ]
  },
  {
   "cell_type": "code",
   "execution_count": 206,
   "id": "35b56bfc-89b5-498c-a715-36d1183006a7",
   "metadata": {},
   "outputs": [
    {
     "name": "stdout",
     "output_type": "stream",
     "text": [
      "Class distribution in y_train before resampling:\n",
      " acceptability\n",
      "unacc    975\n",
      "acc      301\n",
      "good      58\n",
      "vgood     48\n",
      "Name: count, dtype: int64\n",
      "Class distribution in y_train after resampling:\n",
      " acceptability\n",
      "unacc    975\n",
      "acc      975\n",
      "vgood    975\n",
      "good     975\n",
      "Name: count, dtype: int64\n"
     ]
    }
   ],
   "source": [
    "from imblearn.over_sampling import RandomOverSampler\n",
    "\n",
    "# Step 1: Check the class distribution in y_train before resampling\n",
    "print(\"Class distribution in y_train before resampling:\\n\", y_train.value_counts())\n",
    "\n",
    "# Step 2: Initialize RandomOverSampler to handle class imbalance\n",
    "ros = RandomOverSampler(random_state=42)\n",
    "\n",
    "# Step 3: Apply RandomOverSampler to the training data\n",
    "X_train_resampled, y_train_resampled = ros.fit_resample(X_train, y_train)\n",
    "\n",
    "# Step 4: Check the class distribution in y_train after resampling\n",
    "print(\"Class distribution in y_train after resampling:\\n\", y_train_resampled.value_counts())\n"
   ]
  },
  {
   "cell_type": "code",
   "execution_count": 210,
   "id": "278388c5-cab7-484e-980d-d658f84362b9",
   "metadata": {},
   "outputs": [
    {
     "name": "stdout",
     "output_type": "stream",
     "text": [
      "Best parameters for Logistic Regression: {'C': 100}\n",
      "Logistic Regression - Accuracy: 0.9364\n",
      "Logistic Regression - Precision (macro): 0.8695\n",
      "Logistic Regression - Recall (macro): 0.9140\n",
      "Logistic Regression - F1 Score (macro): 0.8867\n"
     ]
    }
   ],
   "source": [
    "from sklearn.linear_model import LogisticRegression\n",
    "from sklearn.model_selection import train_test_split, GridSearchCV\n",
    "from sklearn.metrics import accuracy_score, precision_score, recall_score, f1_score\n",
    "\n",
    "# Defining features (X) and target (y)\n",
    "X = data_encoded.drop(columns=['acceptability'])  # Assuming 'acceptability' is the target variable\n",
    "y = data_encoded['acceptability']\n",
    "\n",
    "# Splitting the dataset into training and test sets\n",
    "X_train, X_test, y_train, y_test = train_test_split(X, y, test_size=0.2, random_state=42)\n",
    "\n",
    "# Logistic Regression Model with GridSearchCV\n",
    "param_grid_lr = {'C': [0.01, 0.1, 1, 10, 100]}\n",
    "lr = LogisticRegression(max_iter=1000, random_state=42)\n",
    "grid_search_lr = GridSearchCV(lr, param_grid_lr, cv=5, scoring='f1_macro')  # Using f1_macro for multiclass\n",
    "grid_search_lr.fit(X_train, y_train)\n",
    "\n",
    "# Best parameters for Logistic Regression\n",
    "print(\"Best parameters for Logistic Regression:\", grid_search_lr.best_params_)\n",
    "\n",
    "# Predictions on the test set\n",
    "y_pred_lr = grid_search_lr.best_estimator_.predict(X_test)\n",
    "\n",
    "# Evaluate Logistic Regression using multiclass metrics\n",
    "accuracy_lr = accuracy_score(y_test, y_pred_lr)\n",
    "precision_lr = precision_score(y_test, y_pred_lr, average='macro')  # For multiclass\n",
    "recall_lr = recall_score(y_test, y_pred_lr, average='macro')        # For multiclass\n",
    "f1_lr = f1_score(y_test, y_pred_lr, average='macro')                # For multiclass\n",
    "\n",
    "# Displaying the evaluation results\n",
    "print(f\"Logistic Regression - Accuracy: {accuracy_lr:.4f}\")\n",
    "print(f\"Logistic Regression - Precision (macro): {precision_lr:.4f}\")\n",
    "print(f\"Logistic Regression - Recall (macro): {recall_lr:.4f}\")\n",
    "print(f\"Logistic Regression - F1 Score (macro): {f1_lr:.4f}\")\n",
    "\n"
   ]
  },
  {
   "cell_type": "markdown",
   "id": "8fa3915f-9189-4bd6-be93-85c2ea421e9b",
   "metadata": {},
   "source": [
    "Accuracy (0.9364):\n",
    "\n",
    "The model correctly predicted the outcomes in 93.64% of the cases. This is a solid accuracy score, but accuracy alone doesn't always reflect true model performance when dealing with imbalanced datasets.\n",
    "Precision (0.8695):\n",
    "\n",
    "Out of all the positive predictions made by the model, 86.95% were actually correct. A high precision suggests that the model is good at minimizing false positives. This metric is particularly important when false positives have significant consequences, such as in medical diagnoses.\n",
    "Recall (0.9140):\n",
    "\n",
    "The model was able to correctly identify 91.40% of actual positive cases. A high recall indicates the model is strong in capturing true positives, making it effective at identifying individuals who fall under the positive class (e.g., stroke cases in healthcare scenarios).\n",
    "F1 Score (0.8867):\n",
    "\n",
    "The F1 Score is the harmonic mean of precision and recall, providing a balance between the two metrics. A high F1 score like 0.8867 shows that the model performs well in both capturing true positives (recall) and minimizing false positives (precision). This balance is critical in scenarios where both false positives and false negatives have substantial consequences."
   ]
  },
  {
   "cell_type": "markdown",
   "id": "d3d0af8d-7f8c-4b00-a0dd-a341ce8cef34",
   "metadata": {},
   "source": [
    "### 2. K-Nearest Neighbors Evaluation\n"
   ]
  },
  {
   "cell_type": "markdown",
   "id": "d1c1d324-7651-4211-98aa-4d3dd80a5c32",
   "metadata": {},
   "source": [
    "#### Predictions\n"
   ]
  },
  {
   "cell_type": "code",
   "execution_count": 212,
   "id": "cdf3e610-b91c-45d5-8b27-02eb1abfac48",
   "metadata": {},
   "outputs": [
    {
     "name": "stdout",
     "output_type": "stream",
     "text": [
      "Best parameters for KNN: {'n_neighbors': 6}\n",
      "KNN - Accuracy: 0.9422\n",
      "KNN - Precision (macro): 0.8625\n",
      "KNN - Recall (macro): 0.7754\n",
      "KNN - F1 Score (macro): 0.7928\n"
     ]
    }
   ],
   "source": [
    "from sklearn.neighbors import KNeighborsClassifier\n",
    "from sklearn.metrics import accuracy_score, precision_score, recall_score, f1_score\n",
    "\n",
    "# K-Nearest Neighbors Model with GridSearchCV\n",
    "param_grid_knn = {'n_neighbors': range(1, 21)}  # Trying values of k from 1 to 20\n",
    "knn = KNeighborsClassifier()\n",
    "grid_search_knn = GridSearchCV(knn, param_grid_knn, cv=5, scoring='f1_macro')  # Using f1_macro for multiclass\n",
    "grid_search_knn.fit(X_train, y_train)\n",
    "\n",
    "# Best parameters for K-Nearest Neighbors\n",
    "print(\"Best parameters for KNN:\", grid_search_knn.best_params_)\n",
    "\n",
    "# Predictions on the test set\n",
    "y_pred_knn = grid_search_knn.best_estimator_.predict(X_test)\n",
    "\n",
    "# Evaluate KNN using multiclass metrics\n",
    "accuracy_knn = accuracy_score(y_test, y_pred_knn)\n",
    "precision_knn = precision_score(y_test, y_pred_knn, average='macro')  # For multiclass\n",
    "recall_knn = recall_score(y_test, y_pred_knn, average='macro')        # For multiclass\n",
    "f1_knn = f1_score(y_test, y_pred_knn, average='macro')                # For multiclass\n",
    "\n",
    "# Displaying the evaluation results\n",
    "print(f\"KNN - Accuracy: {accuracy_knn:.4f}\")\n",
    "print(f\"KNN - Precision (macro): {precision_knn:.4f}\")\n",
    "print(f\"KNN - Recall (macro): {recall_knn:.4f}\")\n",
    "print(f\"KNN - F1 Score (macro): {f1_knn:.4f}\")\n",
    "\n"
   ]
  },
  {
   "cell_type": "markdown",
   "id": "35c4bd07-a496-4be3-97d7-83715cde38b3",
   "metadata": {},
   "source": [
    "#### Confusion Matrix"
   ]
  },
  {
   "cell_type": "code",
   "execution_count": 215,
   "id": "5b662837-bd72-4646-95b4-f309294fc4f6",
   "metadata": {},
   "outputs": [
    {
     "data": {
      "image/png": "[encoded data removed]",
      "text/plain": [
       "<Figure size 640x480 with 2 Axes>"
      ]
     },
     "metadata": {},
     "output_type": "display_data"
    },
    {
     "data": {
      "image/png": "[encoded data removed]",
      "text/plain": [
       "<Figure size 640x480 with 2 Axes>"
      ]
     },
     "metadata": {},
     "output_type": "display_data"
    }
   ],
   "source": [
    "from sklearn.metrics import confusion_matrix, ConfusionMatrixDisplay\n",
    "import matplotlib.pyplot as plt\n",
    "\n",
    "# Confusion Matrix for Logistic Regression\n",
    "cm_lr = confusion_matrix(y_test, y_pred_lr)\n",
    "disp_lr = ConfusionMatrixDisplay(confusion_matrix=cm_lr)\n",
    "disp_lr.plot(cmap=plt.cm.Blues)  # Adding color to make it visually clear\n",
    "plt.title(\"Logistic Regression Confusion Matrix\")\n",
    "plt.show()\n",
    "\n",
    "# Confusion Matrix for K-Nearest Neighbors\n",
    "cm_knn = confusion_matrix(y_test, y_pred_knn)\n",
    "disp_knn = ConfusionMatrixDisplay(confusion_matrix=cm_knn)\n",
    "disp_knn.plot(cmap=plt.cm.Blues)  # Adding color to make it visually clear\n",
    "plt.title(\"K-Nearest Neighbors Confusion Matrix\")\n",
    "plt.show()\n"
   ]
  },
  {
   "cell_type": "markdown",
   "id": "ca3b5ca3-ee65-4870-9b5b-54dc90f75d75",
   "metadata": {},
   "source": [
    "## Performance Metrics\n"
   ]
  },
  {
   "cell_type": "code",
   "execution_count": 217,
   "id": "3883fa27-99e2-40f8-ad1a-d9d42c3a4a4f",
   "metadata": {},
   "outputs": [
    {
     "name": "stdout",
     "output_type": "stream",
     "text": [
      "K-Nearest Neighbors Metrics:\n",
      "Accuracy: 0.9422\n",
      "Precision (macro): 0.8625\n",
      "Recall (macro): 0.7754\n",
      "F1 Score (macro): 0.7928\n"
     ]
    }
   ],
   "source": [
    "from sklearn.metrics import accuracy_score, precision_score, recall_score, f1_score\n",
    "\n",
    "# K-Nearest Neighbors Evaluation Metrics\n",
    "accuracy_knn = accuracy_score(y_test, y_pred_knn)\n",
    "precision_knn = precision_score(y_test, y_pred_knn, average='macro')  # Using macro average for multiclass\n",
    "recall_knn = recall_score(y_test, y_pred_knn, average='macro')        # Using macro average for multiclass\n",
    "f1_knn = f1_score(y_test, y_pred_knn, average='macro')                # Using macro average for multiclass\n",
    "\n",
    "# Displaying KNN performance metrics\n",
    "print(f\"K-Nearest Neighbors Metrics:\")\n",
    "print(f\"Accuracy: {accuracy_knn:.4f}\")\n",
    "print(f\"Precision (macro): {precision_knn:.4f}\")\n",
    "print(f\"Recall (macro): {recall_knn:.4f}\")\n",
    "print(f\"F1 Score (macro): {f1_knn:.4f}\")\n"
   ]
  },
  {
   "cell_type": "markdown",
   "id": "273efbcc-c8e6-4379-a2b4-feebf354edd1",
   "metadata": {},
   "source": [
    "K-Nearest Neighbors (KNN) Model Performance Analysis:\n",
    "Accuracy (0.9422):\n",
    "The KNN model correctly predicted the outcomes 94.22% of the time. This is a high accuracy value, indicating that the model performed well on the overall test set. However, accuracy alone may not fully reflect performance if there is class imbalance, meaning that the model might be correctly predicting the majority class more frequently.\n",
    "\n",
    "Precision (0.8625):\n",
    "Of all the positive predictions made by the KNN model, 86.25% were correct. This indicates that the model has a relatively low number of false positives. High precision suggests that when the KNN model predicts a class, it is often correct in doing so.\n",
    "\n",
    "Recall (0.7754):\n",
    "The KNN model correctly identified 77.54% of the actual positive cases. This value is slightly lower than precision, indicating that the model may be missing some true positives. However, it still shows that the KNN model is good at identifying most of the actual positive instances.\n",
    "\n",
    "F1 Score (0.7928):\n",
    "The F1 score balances precision and recall and is relatively high at 0.7928. This reflects that the KNN model is performing well in terms of both detecting true positives and avoiding false positives. A high F1 score indicates that the model has a good balance between precision and recall, making it reliable for scenarios where both metrics are important."
   ]
  },
  {
   "cell_type": "markdown",
   "id": "12c06104-efd3-434d-bede-88b4f52ba09f",
   "metadata": {},
   "source": [
    "## 5 Confusion Matrix Evaluation"
   ]
  },
  {
   "cell_type": "markdown",
   "id": "4bd7ecc7-1fb9-4890-ac0a-768aa6067ec1",
   "metadata": {},
   "source": [
    "#### Confusion matrix comparision of KNN and logistic regression"
   ]
  },
  {
   "cell_type": "markdown",
   "id": "c82483f9-9d3e-4274-9b6c-e6c0fb22eb9d",
   "metadata": {},
   "source": [
    ":\n",
    "\r\n",
    "**K-Nearest Neighbors (KNN) Confusion Marix**:\n",
    "\r\n",
    "- **True Negative (TN)**:75\r\n",
    "- **False Positivs (FP)*: 2\r\n",
    "- **False Negaties (FN)*: 6\r\n",
    "- **True Positves (T)**: 8\r\n",
    "\r\n",
    "**Logistic Regression Confuion Marix**:\r\n",
    "\r\n",
    "- **True Ngatives TN)**: 69\r\n",
    "- **False ositive (FP)**: 5\r\n",
    "- **FalseNegativs (FN)**: 9\r\n",
    "- **TruePositives (TP)**: 229\r\n",
    "\r\n",
    "---\r\n",
    "\r\n",
    "### Differences Between False Positives (FP) and False Negatives (FN):\r\n",
    "\r\n",
    "- **False Positives (FP)**:\r\n",
    "  - In **KNN**, the number of false positives is lower (2) compared to 5 in **Logistic Regression**. This means that **Logistic Regression** has a higher tendency to incorrectly classify a negative instance as positive compared to KNN.\r\n",
    "  \r\n",
    "- **False Negatives (FN)**:\r\n",
    "  - In **KNN**, the number of false negatives is slightly higher (6) compared to 9 in **Logistic Regression**. This indicates that **Logistic Regression** is more likely to miss positive cases, while KNN is slightly better at identifying them.\r\n",
    "\r\n",
    "---\r\n",
    "\r\n",
    "### Real-World Implications of FP and FN:\r\n",
    "\r\n",
    "- **False Positives (FP)**:\r\n",
    "  - **Real-World Impact**:\r\n",
    "    - **Psychological Stress**: The patient may undergo unnecessary anxiety and stress after being wrongly informed they are at risk.\r\n",
    "    - **Unnecessary Testing**: Additional testing might be triggered due to the false positive, leading to higher medical costs and unneeded examinations.\r\n",
    "    - **Medication Risks**: Medications may be prescribed based on incorrect predictions, leading to potential side effects that were unnecessary.\r\n",
    "  \r\n",
    "  - In this case, **Logistic Regression** with a higher FP rate (5) may trigger more unnecessary actions, leading to increased patient anxiety and wasted resources compared to KNN, which has fewer false positives.\r\n",
    "\r\n",
    "- **False Negatives (FN)**:\r\n",
    "  - **Real-World Impact**:\r\n",
    "    - **Missed Diagnosis**: A false negative can result in a stroke going undetected, potentially leading to severe consequences, including disability or death.\r\n",
    "    - **Delayed Treatment**: The necessary preventive care (medications, monitoring) won't be provided in time, increasing the likelihood of a stroke occurring.\r\n",
    "    - **Higher Long-Term Costs**: Treating a stroke is far more expensive than preventive care.\r\n",
    "  \r\n",
    "  - In this case, **Logistic Regression** has a lower FN rate (9) compared to KNN (6), meaning **Logistic Regression** performs better in preventing missed diagnoses and reducing the likelihood of missing critical positive cases.\r\n",
    "\r\n",
    "---\r\n",
    "\r\n",
    "### Summary:\r\n",
    "\r\n",
    "- **Accuracy**: KNN performs better overall in terms of accuracy (shown by the confusion matrix and metrics). However, accuracy alone can be misleading, especially with imbalanced classes.\r\n",
    "  \r\n",
    "- **Precision**: Logistic Regression slightly outperforms KNN in terms of precision, though both models have low precision.\r\n",
    "  \r\n",
    "- **Recall**: Logistic Regression has a lower FN rate, making it better at identifying positive cases, which is crucial for healthcare scenarios where false negatives can have life-threatening consequences.\r\n",
    "\r\n",
    "### Conclusion:\r\n",
    "\r\n",
    "In this case, **Logistic Regression** performs better than KNN. While **KNN** shows a higher accuracy in some aspects, **Logistic Regression**'s ability to minimize **false negatives** makes it more reliable in contexts where it's critical not to miss positive cases (e.g., stroke prediction in healthcare). Therefore, **Logistic Regression** would be a more appropriate model for this task."
   ]
  }
 ],
 "metadata": {
  "kernelspec": {
   "display_name": "Python 3 (ipykernel)",
   "language": "python",
   "name": "python3"
  },
  "language_info": {
   "codemirror_mode": {
    "name": "ipython",
    "version": 3
   },
   "file_extension": ".py",
   "mimetype": "text/x-python",
   "name": "python",
   "nbconvert_exporter": "python",
   "pygments_lexer": "ipython3",
   "version": "3.12.4"
  }
 },
 "nbformat": 4,
 "nbformat_minor": 5
}
